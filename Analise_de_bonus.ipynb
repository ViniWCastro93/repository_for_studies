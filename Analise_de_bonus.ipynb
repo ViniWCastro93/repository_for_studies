{
  "nbformat": 4,
  "nbformat_minor": 0,
  "metadata": {
    "colab": {
      "provenance": [],
      "toc_visible": true,
      "mount_file_id": "1zrL5zZHCsWWh-Zs3iHjiigose9AfP9ep",
      "authorship_tag": "ABX9TyOCb+OwMmum3jiWKllBUL1O",
      "include_colab_link": true
    },
    "kernelspec": {
      "name": "python3",
      "display_name": "Python 3"
    },
    "language_info": {
      "name": "python"
    }
  },
  "cells": [
    {
      "cell_type": "markdown",
      "metadata": {
        "id": "view-in-github",
        "colab_type": "text"
      },
      "source": [
        "<a href=\"https://colab.research.google.com/github/ViniWCastro93/repository_for_studies/blob/main/Analise_de_bonus.ipynb\" target=\"_parent\"><img src=\"https://colab.research.google.com/assets/colab-badge.svg\" alt=\"Open In Colab\"/></a>"
      ]
    },
    {
      "cell_type": "markdown",
      "source": [
        "# Notificaçõa de Bonus"
      ],
      "metadata": {
        "id": "DQilb5Yw3uuu"
      }
    },
    {
      "cell_type": "code",
      "source": [
        "#****Logica para a solução:****\n",
        "# Enviar um SMS quando  um vendedor das planilhas bater a meta de vendas de R$55.0000,00\n",
        "# Abrir os arquivos Excel no diretorio\n",
        "# Para cada Arquivo:\n",
        "# Verificar se o valor da coluna vendas no arquivo é maio que 55000\n",
        "# Se for mair que 55000 --> Enviar um SMS com o nome, Mes e o valor das vendas\n",
        "# Caso não tenha o valor maior que 55000, nõa fazer nada."
      ],
      "metadata": {
        "id": "iYZqq5PE4-Ub"
      },
      "execution_count": 27,
      "outputs": []
    },
    {
      "cell_type": "code",
      "source": [
        "#Instalaçõa da biblioteca Twilio\n",
        "\n",
        "!pip install twilio\n",
        "#Utiliza o \"!pip Install\" para efetuar a instalção de um biblioteca no Collab"
      ],
      "metadata": {
        "id": "Mm1csVq3mrM3"
      },
      "execution_count": null,
      "outputs": []
    },
    {
      "cell_type": "code",
      "source": [
        "# Importação da Biblioteca pandas\n",
        "\n",
        "import pandas as pd\n",
        "#\"Import\" para efetuar a importaçõa da biblioteca e o \"as\" para criar a abreviação"
      ],
      "metadata": {
        "id": "a1DV_aQ4261b"
      },
      "execution_count": 29,
      "outputs": []
    },
    {
      "cell_type": "code",
      "source": [
        "#Importação da biblioteca Twilio\n",
        "\n",
        "from twilio.rest import Client\n",
        "#\"from\" é utilizado para indicar o local (de onde)"
      ],
      "metadata": {
        "id": "VxCjzlO-mdCY"
      },
      "execution_count": 30,
      "outputs": []
    },
    {
      "cell_type": "code",
      "source": [
        "#Login na API Twilio\n",
        "\n",
        "account_sid = \"AC25dcdff126b33e1881fcbe4b6aeb7801\"\n",
        "auth_token  = \"2e58b8d5a9e898ad025025aa8eaeddba\"\n",
        "\n",
        "client = Client(account_sid, auth_token)"
      ],
      "metadata": {
        "id": "8vUoG8ODmZuL"
      },
      "execution_count": 31,
      "outputs": []
    },
    {
      "cell_type": "code",
      "source": [
        "#Criando lista de meses\n",
        "\n",
        "lista_meses = ['janeiro', 'fevereiro', 'março', 'abril', 'maio', 'junho']\n",
        "# Criada a variavel lista_meses. as listas com os nomes de meses são criadas entre conchetes \"[]\"."
      ],
      "metadata": {
        "id": "U8AbarNCpgIj"
      },
      "execution_count": 32,
      "outputs": []
    },
    {
      "cell_type": "code",
      "source": [
        "#Analise e filtro de dados\n",
        "\n",
        "for mes in lista_meses:\n",
        "# \"for\"para cada mes 'in'dentro de lista_meses :(ecexutar). Sempre utilizar : para esse codigo. Onde segue por indentação.\n",
        "\n",
        "  tabela_vendas = pd.read_excel(f'drive/MyDrive/Aquivos para COLLAB/{mes}.xlsx')\n",
        "  #\"pd.read_excel\" é utilizado para ler o arquivo em excel por pandas. '()' é utilizado para criar informar o nome do arquivo,\n",
        "  #enqunato 'f' formata a string com algo dinamico, e esse dinamico tem que estar dentro de {}\n",
        "\n",
        "  if(tabela_vendas['Vendas']>55000).any(): #se adiciona ().any para identificar se algum valor é maior.\n",
        "#se (IF), variavel (tabela_vendas) na coluna Vendas (['Vendas']), for maior (>) que 55000\n",
        "    vendedor = tabela_vendas.loc [tabela_vendas['Vendas']>55000, 'Vendedor'].values[0] #.loc serve para localizar algo na tabela e dentro do conchete [], no cas oa condição.\n",
        "    vendas = tabela_vendas.loc [tabela_vendas['Vendas']>55000, 'Vendas'].values[0]\n",
        "    print (f'No Mês de {mes} alguém bateu a meta. Vendedor: {vendedor}, Vendas: {vendas}')"
      ],
      "metadata": {
        "id": "UXH3dyXkp-uu",
        "colab": {
          "base_uri": "https://localhost:8080/"
        },
        "outputId": "94d36615-c800-41a5-b5bd-319d43c32a96"
      },
      "execution_count": 33,
      "outputs": [
        {
          "output_type": "stream",
          "name": "stdout",
          "text": [
            "No Mês de maio alguém bateu a meta. Vendedor: Hash, Vendas: 57312\n"
          ]
        }
      ]
    },
    {
      "cell_type": "code",
      "source": [
        "#Envio de SMS\n",
        "message = client.messages.create(\n",
        "    to=\"+5515997086309\",\n",
        "    from_=\"+14423334812\",\n",
        "    body=f'No Mês de {mes} alguém bateu a meta. Vendedor: {vendedor}, Vendas: {vendas}')\n",
        "\n",
        "print(message.sid)"
      ],
      "metadata": {
        "colab": {
          "base_uri": "https://localhost:8080/"
        },
        "id": "giOuMkGmmU_V",
        "outputId": "aac0ce72-8afd-40ac-f0fd-81cfb0b888de"
      },
      "execution_count": 35,
      "outputs": [
        {
          "output_type": "stream",
          "name": "stdout",
          "text": [
            "SM4e80567eb26d733d2d35df7f4bcb3f06\n"
          ]
        }
      ]
    }
  ]
}